{
  "nbformat": 4,
  "nbformat_minor": 0,
  "metadata": {
    "colab": {
      "provenance": []
    },
    "kernelspec": {
      "name": "python3",
      "display_name": "Python 3"
    },
    "language_info": {
      "name": "python"
    }
  },
  "cells": [
    {
      "cell_type": "markdown",
      "source": [
        "# **------- THEORETICAL QUESTION -------**"
      ],
      "metadata": {
        "id": "hhrMeBIwvtdg"
      }
    },
    {
      "cell_type": "markdown",
      "source": [],
      "metadata": {
        "id": "vJ0V8t9jNrA_"
      }
    },
    {
      "cell_type": "markdown",
      "source": [
        "1. What is the difference between interpreted and compiled languages ?\n",
        "*   **Compiled Languages:**\n",
        "The source code is translated into machine code by a compiler before execution.\n",
        "*   **eg:** c, c++\n",
        "*   **Interpreted Languages:**\n",
        "The source code is executed line-by-line\n",
        "*   **eg:** python\n"
      ],
      "metadata": {
        "id": "u-7q2OG_wKte"
      }
    },
    {
      "cell_type": "markdown",
      "source": [
        "2.  What is exception handling in Python ?\n",
        "*    **Exception Handling :**\n",
        "Exception handling in Python is a mechanism that allows you to deal with runtime errors gracefully, preventing your program from crashing unexpectedly.\n"
      ],
      "metadata": {
        "id": "MqQ2zyPrxzDn"
      }
    },
    {
      "cell_type": "markdown",
      "source": [
        "3.  What is the purpose of the finally block in exception handling ?\n",
        "*      The finally block in Python is used to specify code that will always execute, regardless of whether an exception occurs or not. It is mainly used for cleanup actions, such as closing files, releasing resources or resetting states.\n"
      ],
      "metadata": {
        "id": "byPJbOXsyRlG"
      }
    },
    {
      "cell_type": "markdown",
      "source": [
        "4.  What is logging in Python?\n",
        "*     Logging in Python is a way to track events that happen during program execution. It is useful for debugging, monitoring, and maintaining applications.\n",
        "*   Logging is used instead of printf() because print() is used for temporary debugging, while logging is used for permanent record-keeping.\n"
      ],
      "metadata": {
        "id": "ZHnxussUy5-8"
      }
    },
    {
      "cell_type": "markdown",
      "source": [
        "5.  What is the significance of the __del__ method in Python ?\n",
        "*     **\"_del_\"** also  colled destructor.\n",
        "*   The __del__ method in Python is a special method  that is automatically called when an object is about to be destroyed\n",
        "\n",
        "\n"
      ],
      "metadata": {
        "id": "PwnLiR4Ay6BP"
      }
    },
    {
      "cell_type": "markdown",
      "source": [
        "6. What is the difference between import and from ... import in Python ?\n",
        "*    Both import and from ... import are used to include external modules in\n",
        " Python program, but they work differently\n",
        "*   **import Statement :**\n",
        " -   Imports the entire module.\n",
        " -   You need to use the module name when accessing functions or variables."
      ],
      "metadata": {
        "id": "pb5Ub4piy6D2"
      }
    },
    {
      "cell_type": "code",
      "source": [],
      "metadata": {
        "id": "s6kMFBKy2_bO"
      },
      "execution_count": null,
      "outputs": []
    },
    {
      "cell_type": "code",
      "source": [
        "# example\n",
        "import math\n",
        "\n",
        "print(math.sqrt(16))\n"
      ],
      "metadata": {
        "colab": {
          "base_uri": "https://localhost:8080/"
        },
        "id": "PUWmddiP2cSm",
        "outputId": "bdd98a3c-921c-41c5-d77e-3e64af078f69"
      },
      "execution_count": null,
      "outputs": [
        {
          "output_type": "stream",
          "name": "stdout",
          "text": [
            "4.0\n"
          ]
        }
      ]
    },
    {
      "cell_type": "markdown",
      "source": [
        "*  **from ... import Statement :**\n",
        "  - Imports specific functions, classes, or variables from a module.\n",
        "   - No need to use the module name when calling them."
      ],
      "metadata": {
        "id": "T0pLqaZfy6HB"
      }
    },
    {
      "cell_type": "code",
      "source": [
        "#example\n",
        "from math import sqrt\n",
        "\n",
        "print(sqrt(16))\n"
      ],
      "metadata": {
        "colab": {
          "base_uri": "https://localhost:8080/"
        },
        "id": "bL7UL8_h3CXc",
        "outputId": "c9c7f5c3-1c0d-424e-cc62-41ab76992c26"
      },
      "execution_count": null,
      "outputs": [
        {
          "output_type": "stream",
          "name": "stdout",
          "text": [
            "4.0\n"
          ]
        }
      ]
    },
    {
      "cell_type": "markdown",
      "source": [
        "7.  How can you handle multiple exceptions in Python ?\n",
        "*    **In Python, we can handle multiple exceptions in several ways:**\n",
        "  - Using Multiple except Blocks\n",
        "  - Using a Single except Block with a Tuple.\n",
        "  - Using a Generic Exception.\n",
        "  - Using finally for Cleanup.\n"
      ],
      "metadata": {
        "id": "y86P2upF3NBv"
      }
    },
    {
      "cell_type": "markdown",
      "source": [
        "8.  What is the purpose of the with statement when handling files in Python ?\n",
        "\n",
        "*   The with statement in Python is used for handling files efficiently. It ensures that resources  are properly managed, automatically closing the file when the block is exited—whether normally or due to an exception.  \n"
      ],
      "metadata": {
        "id": "x4OV_P154mDy"
      }
    },
    {
      "cell_type": "markdown",
      "source": [
        "9.  What is the difference between multithreading and multiprocessing ?\n",
        "## *  ** Multithreading **\n",
        "   -   Uses the threading module.\n",
        "  -  Best for I/O-bound tasks .\n",
        "   - Threads share memory and run in the same process.\n",
        "  - Limited by Python's GIL (Global Interpreter Lock), meaning only one thread executes Python code at a time.\n",
        "# *   **Multiprocessing:**\n",
        "     - Uses the multiprocessing module.\n",
        "     - Best for CPU-bound tasks.\n",
        "    - Each process runs independently, using multiple CPU cores.\n",
        "    \n"
      ],
      "metadata": {
        "id": "pZO5xsR35LDQ"
      }
    },
    {
      "cell_type": "markdown",
      "source": [
        "10.  What are the advantages of using logging in a program ?\n",
        "*    **Advantages of  Logging :**\n",
        "   -  Helps in Debugging & Troubleshooting.\n",
        "   -  Provides Different Log Levels.\n",
        "   - Saves Logs to Files for Future Reference.\n",
        "   - Helps in Performance Monitoring.\n",
        "   - Thread-Safe & Suitable for Multi-User Applications.\n"
      ],
      "metadata": {
        "id": "dHBjF5mZ7Nv_"
      }
    },
    {
      "cell_type": "markdown",
      "source": [
        "11. What is memory management in Python ?\n",
        "*    Memory management in Python refers to how the  allocates, deallocates, and optimizes the memory used by objects during the execution of a program. Python uses automatic memory management, meaning developers don’t have to manually allocate or free memory. It uses a combination of garbage collection and reference counting to manage memory.\n"
      ],
      "metadata": {
        "id": "J9b0Rcv08diN"
      }
    },
    {
      "cell_type": "markdown",
      "source": [
        "12. What are the basic steps involved in exception handling in Python ?\n",
        "*     Basic Steps Involved in Exception Handling in Python\n",
        "   - **try Block:**  Python will “try” to execute the code in this block. If an exception occurs, execution will immediately jump to the except block.\n",
        "   - **except Block:** If the code inside the try block throws an error, Python jumps to the except block and executes it. We can handle specific exceptions or use a general except to catch all exceptions.\n",
        "   - **else Block:**  The else block runs only if no exceptions are raised in the try block. This is useful for code that should execute if the try block succeeds.\n",
        "   - **finally Block:** finally block always runs, regardless of whether an exception occurred or not. It is typically used for cleanup operations\n"
      ],
      "metadata": {
        "id": "ZqoZmy1hNtLi"
      }
    },
    {
      "cell_type": "markdown",
      "source": [
        "13.  Why is memory management important in Python ?\n",
        "*   Memory management is essential for preventing memory leaks, improving performance, supporting scalability, optimizing resource usage, and avoiding crashes. Python’s automatic garbage collection helps, but understanding memory behavior allows developers to write more efficient programs.\n"
      ],
      "metadata": {
        "id": "2dEMhvJ2Qsdu"
      }
    },
    {
      "cell_type": "markdown",
      "source": [
        "14.  What is the role of try and except in exception handling ?\n",
        "*    The try and except blocks are the core components of exception handling in Python. They allow a program to catch and handle errors gracefully, preventing the program from crashing unexpectedly.    \n"
      ],
      "metadata": {
        "id": "4HFb4CJARYC2"
      }
    },
    {
      "cell_type": "markdown",
      "source": [
        "15.  How does Python's garbage collection system work ?\n",
        "*    Every object in Python has a reference count, which tracks how many variables reference it.\n",
        "\n",
        "     -  When the reference count drops to zero, Python automatically deletes the object and frees the memory.\n",
        "\n",
        "\n",
        "*   Cyclic Garbage Collection :-\n",
        "Python’s garbage collector detects cyclic references—objects that reference each other but are no longer needed.\n",
        "\n",
        "\n",
        "*   Generational Garbage Collection :-\n",
        "Python’s garbage collector divides objects into three generations:\n",
        "\n",
        "    - Generation 0 (Young Objects): Newly created objects.\n",
        "    - Generation 1 (Intermediate Objects): Objects that survived one collection cycle.\n",
        "    - Generation 2 (Old Objects): Long-lived objects .\n",
        "Each time an object survives a garbage collection, it moves to a higher generation.\n",
        "\n",
        "*    Manually Controlling Garbage Collection :-\n",
        "Python allows manual control over garbage collection.\n",
        "\n",
        "\n"
      ],
      "metadata": {
        "id": "xiAMKfquR2cJ"
      }
    },
    {
      "cell_type": "markdown",
      "source": [
        "16. What is the purpose of the else block in exception handling ?\n",
        "*    \n",
        "In Python, the else block in exception handling is used to execute code only if no exceptions occur in the try block."
      ],
      "metadata": {
        "id": "yM0crhciUXJg"
      }
    },
    {
      "cell_type": "markdown",
      "source": [
        "17. What are the common logging levels in Python ?\n",
        "*  **Logging Levels :**\n",
        "   1. **DEBUG**\t:- useful for debugging\n",
        "   2. **INFO**\t:-\tGeneral messages about normal program execution\n",
        "   3. **WARNING**\t:- \tAn indication of potential problems\n",
        "   4. **ERROR**\t:-\tA serious issue that has caused a failure\n",
        "   5. **CRITICAL** :-\t\tA very severe error that may cause the program to crash\n"
      ],
      "metadata": {
        "id": "vP0el46MUypC"
      }
    },
    {
      "cell_type": "markdown",
      "source": [
        "18.  What is the difference between os.fork() and multiprocessing in Python ?\n",
        "*   1. os.fork() :- Low-Level Process Creation\n",
        "    - os.fork() is a Unix-only system call (not available on Windows).\n",
        "It creates a child process by duplicating the current process.\n",
        "The child process gets a copy of the parent's memory space.\n",
        "The child process starts execution from the point where os.fork() was called.\n",
        "\n",
        "\n",
        "2. multiprocessing :-  High-Level Process Management\n",
        "   - Works on both Unix and Windows.\n",
        "     Uses Process objects instead of duplicating the memory space.\n",
        "     Allows better inter-process communication (IPC) using Queues and Pipes.\n",
        "     Each process has its own memory space, preventing memory corruption.\n",
        "\n"
      ],
      "metadata": {
        "id": "HM7O-K5mV3p8"
      }
    },
    {
      "cell_type": "markdown",
      "source": [
        "19.  What is the importance of closing a file in Python ?\n",
        "-    When working with files in Python, it is crucial to close the file after reading from or writing to it. Failing to close a file can lead to memory leaks, data corruption, or resource exhaustion.\n",
        "\n",
        "\n"
      ],
      "metadata": {
        "id": "1cssOgq3XDJ6"
      }
    },
    {
      "cell_type": "markdown",
      "source": [
        "20.  What is the difference between file.read() and file.readline() in Python ?\n",
        "*    file.read() :-  Reads the Entire File or a Specified Number of Characters\n",
        "   - Reads the entire file into a single string if no argument is given.\n",
        "If a number (N) is passed, it reads N characters (bytes) from the file.\n",
        "Efficient for small files, but can be memory-intensive for large files.\n"
      ],
      "metadata": {
        "id": "sgVFQU3HXbKB"
      }
    },
    {
      "cell_type": "code",
      "source": [
        "#EXAMPLE\n",
        "with open(\"sample.txt\", \"r\") as file:\n",
        "    content = file.read()\n",
        "    print(content)\n"
      ],
      "metadata": {
        "colab": {
          "base_uri": "https://localhost:8080/"
        },
        "id": "b55415ywX_u-",
        "outputId": "cb018f09-147b-49d1-e4fe-d534a7ddf841"
      },
      "execution_count": 6,
      "outputs": [
        {
          "output_type": "stream",
          "name": "stdout",
          "text": [
            "hello\n",
            "ranvijay \n"
          ]
        }
      ]
    },
    {
      "cell_type": "markdown",
      "source": [
        "*   file.readline() :- Reads One Line at a Time\n",
        "   - Reads only a single line from the file at a time.\n",
        "   - Returns an empty string (\"\") when it reaches the end of the file.\n",
        "   - Useful for reading large files line by line without loading everything into memory."
      ],
      "metadata": {
        "id": "f-zilEcTYtbx"
      }
    },
    {
      "cell_type": "code",
      "source": [
        "#example\n",
        "with open(\"sample.txt\", \"r\") as file:\n",
        "    line1 = file.readline()\n",
        "    print(line1.strip())\n",
        "\n",
        "\n"
      ],
      "metadata": {
        "colab": {
          "base_uri": "https://localhost:8080/"
        },
        "id": "T9P7YaiqY7ij",
        "outputId": "ed3df11f-1d6a-45b4-f262-1a8849837a60"
      },
      "execution_count": 5,
      "outputs": [
        {
          "output_type": "stream",
          "name": "stdout",
          "text": [
            "hello\n"
          ]
        }
      ]
    },
    {
      "cell_type": "markdown",
      "source": [
        "21.   What is the logging module in Python used for  ?\n",
        "*   The logging module in Python used for :-\n",
        "   -  Provides detailed debugging information (better than print()).\n",
        "   -  Logs can be saved to files, databases, or sent over networks.\n",
        "    -  Allows different logging levels (e.g., DEBUG, INFO, WARNING).\n",
        "   - Supports filtering and formatting of log messages.\n",
        "   - Improves code maintainability by avoiding excessive print statements"
      ],
      "metadata": {
        "id": "6mmstAUWaS6F"
      }
    },
    {
      "cell_type": "markdown",
      "source": [
        "22. What is the os module in Python used for in file handling ?\n",
        "*  Uses of  the os Module for File Handling in python\n",
        "   -    Creates, deletes, and renames files and directories.\n",
        "   -    Checks file existence, size, and permissions.\n",
        "   -    Navigates and manipulates directory structures.\n",
        "   -     Works cross-platform (Windows, Linux, macOS).\n",
        "\n",
        "\n"
      ],
      "metadata": {
        "id": "S37-WvbwfgPk"
      }
    },
    {
      "cell_type": "markdown",
      "source": [
        "23.  What are the challenges associated with memory management in Python ?\n",
        "*   Memory Leaks\n",
        "*   High Memory Usage\n",
        "*   Inefficient Data Structures\n",
        "*   Global Variables\n",
        "*    Memory Fragmentation\n",
        "*    Garbage Collection Overhead\n",
        "*    No Explicit Memory Control\n"
      ],
      "metadata": {
        "id": "xMNhcCVXgXPa"
      }
    },
    {
      "cell_type": "markdown",
      "source": [
        "24.   How do you raise an exception manually in Python ?\n",
        "*   In Python, we can manually raise an exception using the raise keyword. This is useful when we need to trigger an error condition based on specific logic in our program.\n"
      ],
      "metadata": {
        "id": "ImLwWK2OhjeA"
      }
    },
    {
      "cell_type": "code",
      "source": [
        "#example\n",
        "age = -5\n",
        "if age < 0:\n",
        "    raise ValueError(\"Age cannot be negative!\")\n"
      ],
      "metadata": {
        "colab": {
          "base_uri": "https://localhost:8080/",
          "height": 176
        },
        "id": "uTVro1zdiff1",
        "outputId": "b83f26e8-008b-4848-8cd9-3e19e24c588d"
      },
      "execution_count": 8,
      "outputs": [
        {
          "output_type": "error",
          "ename": "ValueError",
          "evalue": "Age cannot be negative!",
          "traceback": [
            "\u001b[0;31m---------------------------------------------------------------------------\u001b[0m",
            "\u001b[0;31mValueError\u001b[0m                                Traceback (most recent call last)",
            "\u001b[0;32m<ipython-input-8-fd6437f77d9d>\u001b[0m in \u001b[0;36m<cell line: 0>\u001b[0;34m()\u001b[0m\n\u001b[1;32m      2\u001b[0m \u001b[0mage\u001b[0m \u001b[0;34m=\u001b[0m \u001b[0;34m-\u001b[0m\u001b[0;36m5\u001b[0m\u001b[0;34m\u001b[0m\u001b[0;34m\u001b[0m\u001b[0m\n\u001b[1;32m      3\u001b[0m \u001b[0;32mif\u001b[0m \u001b[0mage\u001b[0m \u001b[0;34m<\u001b[0m \u001b[0;36m0\u001b[0m\u001b[0;34m:\u001b[0m\u001b[0;34m\u001b[0m\u001b[0;34m\u001b[0m\u001b[0m\n\u001b[0;32m----> 4\u001b[0;31m     \u001b[0;32mraise\u001b[0m \u001b[0mValueError\u001b[0m\u001b[0;34m(\u001b[0m\u001b[0;34m\"Age cannot be negative!\"\u001b[0m\u001b[0;34m)\u001b[0m\u001b[0;34m\u001b[0m\u001b[0;34m\u001b[0m\u001b[0m\n\u001b[0m",
            "\u001b[0;31mValueError\u001b[0m: Age cannot be negative!"
          ]
        }
      ]
    },
    {
      "cell_type": "markdown",
      "source": [
        "25.  Why is it important to use multithreading in certain applications ?\n",
        "*    Because Multithreading allows a program to run multiple tasks concurrently within the same process. This can improve performance, responsiveness, and resource utilization in specific scenarios.\n",
        "\n"
      ],
      "metadata": {
        "id": "I3IqnidSjCZj"
      }
    },
    {
      "cell_type": "markdown",
      "source": [
        "# **------ practical Q ------**"
      ],
      "metadata": {
        "id": "jAXZzO-zjhaC"
      }
    },
    {
      "cell_type": "code",
      "source": [
        "# How can you open a file for writing in Python and write a string to it\n",
        "\n",
        "with open(\"sample.txt\", \"w\") as file:\n",
        "    file.write(\"Hello, this is a test file!\")\n",
        "\n",
        "print(\"File written successfully!\")\n",
        "\n"
      ],
      "metadata": {
        "colab": {
          "base_uri": "https://localhost:8080/"
        },
        "id": "LrGuME-Yjp9A",
        "outputId": "f1003915-57f0-40be-a866-c224f45d3151"
      },
      "execution_count": 10,
      "outputs": [
        {
          "output_type": "stream",
          "name": "stdout",
          "text": [
            "File written successfully!\n"
          ]
        }
      ]
    },
    {
      "cell_type": "code",
      "source": [
        "# Write a Python program to read the contents of a file and print each line\n",
        "\n",
        "with open(\"sample.txt\", \"r\") as file:\n",
        "    # Read and print each line\n",
        "    for line in file:\n",
        "        print(line.strip())\n"
      ],
      "metadata": {
        "colab": {
          "base_uri": "https://localhost:8080/"
        },
        "id": "C9qHeRGUkS-w",
        "outputId": "a5944e9c-c417-4b80-c254-daaa100ae463"
      },
      "execution_count": 11,
      "outputs": [
        {
          "output_type": "stream",
          "name": "stdout",
          "text": [
            "Hello, this is a test file!\n"
          ]
        }
      ]
    },
    {
      "cell_type": "code",
      "source": [
        "# How would you handle a case where the file doesn't exist while trying to open it for reading\n",
        "try:\n",
        "    with open(\"non_file.txt\", \"r\") as file:\n",
        "        content = file.read()\n",
        "        print(content)\n",
        "except FileNotFoundError:\n",
        "    print(\"Error: The file does not exist. \")\n"
      ],
      "metadata": {
        "colab": {
          "base_uri": "https://localhost:8080/"
        },
        "id": "dZE8zJr8kwn-",
        "outputId": "ebfe8080-ba0b-4a20-d6b9-90ba3ada4873"
      },
      "execution_count": 12,
      "outputs": [
        {
          "output_type": "stream",
          "name": "stdout",
          "text": [
            "Error: The file does not exist. \n"
          ]
        }
      ]
    },
    {
      "cell_type": "code",
      "source": [
        "#  Write a Python script that reads from one file and writes its content to another file\n",
        "# Open the source file in read mode and destination file in write mode\n",
        "with open(\"sample.txt\", \"r\") as sample_file, open(\"new_file.txt\", \"w\") as new_file:\n",
        "    for line in sample_file:  # Read each line\n",
        "        new_file.write(line)  # Write to the new file\n",
        "\n",
        "print(\"File copied successfully!\")\n"
      ],
      "metadata": {
        "colab": {
          "base_uri": "https://localhost:8080/"
        },
        "id": "zLXPtKsylQrs",
        "outputId": "7c6bcb2c-d510-4751-8744-21da90452e71"
      },
      "execution_count": 13,
      "outputs": [
        {
          "output_type": "stream",
          "name": "stdout",
          "text": [
            "File copied successfully!\n"
          ]
        }
      ]
    },
    {
      "cell_type": "code",
      "source": [
        "# How would you catch and handle division by zero error in Python\n",
        "\n",
        "try:\n",
        "    result = 10 / 0  # This will raise a ZeroDivisionError\n",
        "except ZeroDivisionError:\n",
        "    print(\"Error: Division by zero is not allowed.\")\n",
        "    result = None\n",
        "\n",
        "print(\"Result:\", result)\n"
      ],
      "metadata": {
        "colab": {
          "base_uri": "https://localhost:8080/"
        },
        "id": "oVy9zYknncet",
        "outputId": "f9612fbf-4756-4073-ef31-dccbf51237f8"
      },
      "execution_count": 14,
      "outputs": [
        {
          "output_type": "stream",
          "name": "stdout",
          "text": [
            "Error: Division by zero is not allowed.\n",
            "Result: None\n"
          ]
        }
      ]
    },
    {
      "cell_type": "code",
      "source": [
        "# Write a Python program that logs an error message to a log file when a division by zero exception occurs\n",
        "import logging\n",
        "try:\n",
        "    1/0\n",
        "except ZeroDivisionError:\n",
        "    logging.exception(\"message\")"
      ],
      "metadata": {
        "colab": {
          "base_uri": "https://localhost:8080/"
        },
        "id": "NUe7Xuo4n1AT",
        "outputId": "65f9cfa0-8ab9-430b-dd90-8444efdb3349"
      },
      "execution_count": 15,
      "outputs": [
        {
          "output_type": "stream",
          "name": "stderr",
          "text": [
            "ERROR:root:message\n",
            "Traceback (most recent call last):\n",
            "  File \"<ipython-input-15-5429bb9e64b2>\", line 4, in <cell line: 0>\n",
            "    1/0\n",
            "    ~^~\n",
            "ZeroDivisionError: division by zero\n"
          ]
        }
      ]
    },
    {
      "cell_type": "code",
      "source": [
        "# How do you log information at different levels (INFO, ERROR, WARNING) in Python using the logging module\n",
        "import logging\n",
        "logging.basicConfig(Level=logging.INFO)\n",
        "logging.info(\"message\")\n",
        "logging.error(\"message\")\n",
        "logging.warning(\"message\")\n"
      ],
      "metadata": {
        "colab": {
          "base_uri": "https://localhost:8080/"
        },
        "id": "3oDvNRxrqnhU",
        "outputId": "45050cdd-15e2-453e-d22b-cb368a8d82cf"
      },
      "execution_count": 21,
      "outputs": [
        {
          "output_type": "stream",
          "name": "stderr",
          "text": [
            "ERROR:root:message\n",
            "WARNING:root:message\n"
          ]
        }
      ]
    },
    {
      "cell_type": "code",
      "source": [
        "#Write a program to handle a file opening error using exception handling\n",
        "try:\n",
        "    # Try to open the file\n",
        "    with open('sample.txt', 'r') as file:\n",
        "        content = file.read()\n",
        "        print(\"File content:\")\n",
        "        print(content)\n",
        "\n",
        "except FileNotFoundError:\n",
        "    # Handle case when the file doesn't exist\n",
        "    print(\"Error: The file 'example.txt' was not found.\")\n",
        "\n",
        "except PermissionError:\n",
        "    # Handle case when there's a permission issue (e.g., file is read-only or not accessible)\n",
        "    print(\"Error: You do not have permission to read the file.\")\n",
        "\n",
        "except Exception as e:\n",
        "    # Catch any other unexpected errors\n",
        "    print(f\"An unexpected error occurred: {e}\")\n",
        "\n",
        "else:\n",
        "    # This block will run if there is no exception\n",
        "    print(\"File opened and read successfully.\")\n",
        "\n",
        "finally:\n",
        "    # This block will run no matter what, even if there is an exception\n",
        "    print(\"Execution complete.\")\n",
        "\n"
      ],
      "metadata": {
        "colab": {
          "base_uri": "https://localhost:8080/"
        },
        "id": "rWqOwByEr6xr",
        "outputId": "b1b22c55-147a-4faf-be86-56d8c8a7839b"
      },
      "execution_count": 22,
      "outputs": [
        {
          "output_type": "stream",
          "name": "stdout",
          "text": [
            "File content:\n",
            "Hello, this is a test file!\n",
            "File opened and read successfully.\n",
            "Execution complete.\n"
          ]
        }
      ]
    },
    {
      "cell_type": "code",
      "source": [
        "# How can you read a file line by line and store its content in a list in Python\n",
        "# Open the file in read mode\n",
        "with open('sample.txt', 'r') as file:\n",
        "    lines = file.readlines()\n",
        "\n",
        "# Display the list of lines\n",
        "print(lines)\n"
      ],
      "metadata": {
        "colab": {
          "base_uri": "https://localhost:8080/"
        },
        "id": "OclLPGQtsXMc",
        "outputId": "347870f8-dc9d-454f-df83-f522ea04cc98"
      },
      "execution_count": 23,
      "outputs": [
        {
          "output_type": "stream",
          "name": "stdout",
          "text": [
            "['Hello, this is a test file!']\n"
          ]
        }
      ]
    },
    {
      "cell_type": "code",
      "source": [
        "#How can you append data to an existing file in Python\n",
        "# Open the file in append mode\n",
        "with open('sample.txt', 'a') as file:\n",
        "    # Write the data you want to append\n",
        "    file.write(\"\\nThis is a new line added to the file.\")\n",
        "\n",
        "print(\"Data appended successfully.\")\n"
      ],
      "metadata": {
        "colab": {
          "base_uri": "https://localhost:8080/"
        },
        "id": "RrkF4smqsx8I",
        "outputId": "2ec5948f-2302-49dd-88c0-3638f9414f56"
      },
      "execution_count": 24,
      "outputs": [
        {
          "output_type": "stream",
          "name": "stdout",
          "text": [
            "Data appended successfully.\n"
          ]
        }
      ]
    },
    {
      "cell_type": "code",
      "source": [
        "\"\"\"Write a Python program that uses a try-except block to handle an error when attempting to access a dictionary key that doesn't exist\"\"\"\n",
        "# dictionary\n",
        "my_dict = {\"name\": \"ranvijay\", \"age\": 22, \"city\": \"Hajipur\"}\n",
        "\n",
        "try:\n",
        "\n",
        "    value = my_dict[\"address\"]\n",
        "    print(f\"Address: {value}\")\n",
        "\n",
        "except KeyError:\n",
        "\n",
        "    print(\"Error: The key 'address' does not exist in the dictionary.\")\n",
        "\n",
        "\n"
      ],
      "metadata": {
        "colab": {
          "base_uri": "https://localhost:8080/"
        },
        "id": "zcNzsC3Tqoke",
        "outputId": "f9afed85-73a8-421c-cd1c-3865aaa586bd"
      },
      "execution_count": 25,
      "outputs": [
        {
          "output_type": "stream",
          "name": "stdout",
          "text": [
            "Error: The key 'address' does not exist in the dictionary.\n"
          ]
        }
      ]
    },
    {
      "cell_type": "code",
      "source": [
        "#Write a program that demonstrates using multiple except blocks to handle different types of exceptions\n",
        "try:\n",
        "    user_input = input(\"Enter a number: \")\n",
        "    number = int(user_input)\n",
        "\n",
        "    result = 10 / number\n",
        "\n",
        "    my_list = [1, 2, 3]\n",
        "    print(my_list[5])\n",
        "\n",
        "except ValueError:\n",
        "    print(\"Error: Invalid input. Please enter a valid number.\")\n",
        "\n",
        "except ZeroDivisionError:\n",
        "    print(\"Error: Cannot divide by zero.\")\n",
        "\n",
        "except IndexError:\n",
        "    print(\"Error: List index out of range.\")\n",
        "\n",
        "except Exception as e:\n",
        "    print(f\"An unexpected error occurred: {e}\")\n",
        "\n",
        "else:\n",
        "    print(f\"Division result: {result}\")\n",
        "\n",
        "finally:\n",
        "    print(\"Execution complete.\")\n"
      ],
      "metadata": {
        "colab": {
          "base_uri": "https://localhost:8080/"
        },
        "id": "VKIwXOGfulMb",
        "outputId": "f304bb16-0de2-49eb-d640-5d62aef888d2"
      },
      "execution_count": 26,
      "outputs": [
        {
          "output_type": "stream",
          "name": "stdout",
          "text": [
            "Enter a number: 56\n",
            "Error: List index out of range.\n",
            "Execution complete.\n"
          ]
        }
      ]
    },
    {
      "cell_type": "code",
      "source": [
        "#How would you check if a file exists before attempting to read it in Python\n",
        "import os\n",
        "\n",
        "file_path = 'ram.txt'\n",
        "\n",
        "# Check if the file exists\n",
        "if os.path.exists(file_path):\n",
        "    with open(file_path, 'r') as file:\n",
        "        content = file.read()\n",
        "        print(content)\n",
        "else:\n",
        "    print(f\"The file '{file_path}' does not exist.\")\n"
      ],
      "metadata": {
        "colab": {
          "base_uri": "https://localhost:8080/"
        },
        "id": "tS0Z-JeFvMsv",
        "outputId": "da6c4d26-915f-4b33-a86a-cb0fe0f48811"
      },
      "execution_count": 28,
      "outputs": [
        {
          "output_type": "stream",
          "name": "stdout",
          "text": [
            "The file 'ram.txt' does not exist.\n"
          ]
        }
      ]
    },
    {
      "cell_type": "code",
      "source": [
        "# Write a program that uses the logging module to log both informational and error messages\n",
        "import logging\n",
        "\n",
        "logging.basicConfig(file_name = 'error.log', level=logging.ERROR)\n",
        "logging.error(\"error\")\n",
        "\n",
        "logging.basicConfig(file_name = 'info.log', level=logging.INFO)\n",
        "logging.info(\"info\")\n"
      ],
      "metadata": {
        "colab": {
          "base_uri": "https://localhost:8080/"
        },
        "id": "l5J3wNacvtqj",
        "outputId": "b22fe038-0d9b-462c-d336-6d6edce079a2"
      },
      "execution_count": 30,
      "outputs": [
        {
          "output_type": "stream",
          "name": "stderr",
          "text": [
            "ERROR:root:error\n"
          ]
        }
      ]
    },
    {
      "cell_type": "code",
      "source": [
        "# Write a Python program that prints the content of a file and handles the case when the file is empty\n",
        "\n",
        "file_path = 'sample.txt'\n",
        "\n",
        "try:\n",
        "    # Open the file in read mode\n",
        "    with open(file_path, 'r') as file:\n",
        "        content = file.read()\n",
        "\n",
        "        # Check if the file is empty\n",
        "        if not content:\n",
        "            print(\"The file is empty.\")\n",
        "        else:\n",
        "            print(\"File content:\")\n",
        "            print(content)\n",
        "\n",
        "except FileNotFoundError:\n",
        "    print(f\"Error: The file '{file_path}' does not exist.\")\n",
        "\n",
        "except Exception as e:\n",
        "    print(f\"An unexpected error occurred: {e}\")\n"
      ],
      "metadata": {
        "colab": {
          "base_uri": "https://localhost:8080/"
        },
        "id": "EvnZYDoHxAWI",
        "outputId": "8ff5e21e-a3cb-45a7-fb93-77be498ccaf6"
      },
      "execution_count": 31,
      "outputs": [
        {
          "output_type": "stream",
          "name": "stdout",
          "text": [
            "File content:\n",
            "Hello, this is a test file!\n",
            "This is a new line added to the file.\n"
          ]
        }
      ]
    },
    {
      "cell_type": "code",
      "source": [
        "#Demonstrate how to use memory profiling to check the memory usage of a small program\n",
        "from memory_profiler import profile\n",
        "\n",
        "@profile\n",
        "def allocate_memory():\n",
        "    a = [i for i in range(10000)]\n",
        "    b = [i ** 2 for i in range(10000)]\n",
        "    return a, b\n",
        "\n",
        "if __name__ == \"__main__\":\n",
        "    allocate_memory()\n",
        "\n",
        "\n"
      ],
      "metadata": {
        "colab": {
          "base_uri": "https://localhost:8080/",
          "height": 383
        },
        "id": "b6JD_t_Rxgwu",
        "outputId": "7527af53-c201-4207-9621-90bc93e7389b"
      },
      "execution_count": 36,
      "outputs": [
        {
          "output_type": "error",
          "ename": "ModuleNotFoundError",
          "evalue": "No module named 'memory_profiler'",
          "traceback": [
            "\u001b[0;31m---------------------------------------------------------------------------\u001b[0m",
            "\u001b[0;31mModuleNotFoundError\u001b[0m                       Traceback (most recent call last)",
            "\u001b[0;32m<ipython-input-36-4aef43132f0e>\u001b[0m in \u001b[0;36m<cell line: 0>\u001b[0;34m()\u001b[0m\n\u001b[1;32m      1\u001b[0m \u001b[0;31m#Demonstrate how to use memory profiling to check the memory usage of a small program\u001b[0m\u001b[0;34m\u001b[0m\u001b[0;34m\u001b[0m\u001b[0m\n\u001b[0;32m----> 2\u001b[0;31m \u001b[0;32mfrom\u001b[0m \u001b[0mmemory_profiler\u001b[0m \u001b[0;32mimport\u001b[0m \u001b[0mprofile\u001b[0m\u001b[0;34m\u001b[0m\u001b[0;34m\u001b[0m\u001b[0m\n\u001b[0m\u001b[1;32m      3\u001b[0m \u001b[0;34m\u001b[0m\u001b[0m\n\u001b[1;32m      4\u001b[0m \u001b[0;34m@\u001b[0m\u001b[0mprofile\u001b[0m\u001b[0;34m\u001b[0m\u001b[0;34m\u001b[0m\u001b[0m\n\u001b[1;32m      5\u001b[0m \u001b[0;32mdef\u001b[0m \u001b[0mallocate_memory\u001b[0m\u001b[0;34m(\u001b[0m\u001b[0;34m)\u001b[0m\u001b[0;34m:\u001b[0m\u001b[0;34m\u001b[0m\u001b[0;34m\u001b[0m\u001b[0m\n",
            "\u001b[0;31mModuleNotFoundError\u001b[0m: No module named 'memory_profiler'",
            "",
            "\u001b[0;31m---------------------------------------------------------------------------\u001b[0;32m\nNOTE: If your import is failing due to a missing package, you can\nmanually install dependencies using either !pip or !apt.\n\nTo view examples of installing some common dependencies, click the\n\"Open Examples\" button below.\n\u001b[0;31m---------------------------------------------------------------------------\u001b[0m\n"
          ],
          "errorDetails": {
            "actions": [
              {
                "action": "open_url",
                "actionText": "Open Examples",
                "url": "/notebooks/snippets/importing_libraries.ipynb"
              }
            ]
          }
        }
      ]
    },
    {
      "cell_type": "code",
      "source": [
        "# Write a Python program to create and write a list of numbers to a file, one number per line\n",
        "\n",
        "# List of numbers\n",
        "numbers = [1, 2, 3, 4, 5, 6, 7, 8, 9, 10]\n",
        "\n",
        "# Open a file in write mode\n",
        "with open('numbers.txt', 'w') as file:\n",
        "    # Iterate over the list of numbers\n",
        "    for number in numbers:\n",
        "        # Write each number followed by a newline character\n",
        "        file.write(f\"{number}\\n\")\n",
        "\n",
        "print(\"Numbers have been written to 'numbers.txt'.\")\n"
      ],
      "metadata": {
        "colab": {
          "base_uri": "https://localhost:8080/"
        },
        "id": "I9hC1trc7rKB",
        "outputId": "51964322-8e3c-4c0e-cda5-af94c88d07cd"
      },
      "execution_count": 37,
      "outputs": [
        {
          "output_type": "stream",
          "name": "stdout",
          "text": [
            "Numbers have been written to 'numbers.txt'.\n"
          ]
        }
      ]
    },
    {
      "cell_type": "code",
      "source": [
        "# How would you implement a basic logging setup that logs to a file with rotation after 1MB\n",
        "\n",
        "import logging\n",
        "from logging.handlers import RotatingFileHandler\n",
        "\n",
        "# Set up the logging configuration\n",
        "log_file = 'app.log'\n",
        "\n",
        "# Create a rotating file handler that rotates the log file after it reaches 1MB\n",
        "handler = RotatingFileHandler(log_file, maxBytes=1e6, backupCount=3)  # 1e6 = 1MB, backupCount keeps 3 old logs\n",
        "\n",
        "# Set log level and format\n",
        "handler.setLevel(logging.DEBUG)\n",
        "formatter = logging.Formatter('%(asctime)s - %(levelname)s - %(message)s')\n",
        "handler.setFormatter(formatter)\n",
        "\n",
        "# Create a logger and add the handler to it\n",
        "logger = logging.getLogger()\n",
        "logger.setLevel(logging.DEBUG)\n",
        "logger.addHandler(handler)\n",
        "\n",
        "# Log some messages\n",
        "logger.debug(\"This is a debug message.\")\n",
        "logger.info(\"This is an informational message.\")\n",
        "logger.warning(\"This is a warning message.\")\n",
        "logger.error(\"This is an error message.\")\n",
        "logger.critical(\"This is a critical message.\")\n",
        "\n",
        "print(\"Logging setup completed with file rotation after 1MB.\")\n"
      ],
      "metadata": {
        "colab": {
          "base_uri": "https://localhost:8080/"
        },
        "id": "tFgkaRMb8Xl7",
        "outputId": "59e586f5-9aa2-4368-97f7-29c0b18425e7"
      },
      "execution_count": 38,
      "outputs": [
        {
          "output_type": "stream",
          "name": "stderr",
          "text": [
            "DEBUG:root:This is a debug message.\n",
            "INFO:root:This is an informational message.\n",
            "WARNING:root:This is a warning message.\n",
            "ERROR:root:This is an error message.\n",
            "CRITICAL:root:This is a critical message.\n"
          ]
        },
        {
          "output_type": "stream",
          "name": "stdout",
          "text": [
            "Logging setup completed with file rotation after 1MB.\n"
          ]
        }
      ]
    },
    {
      "cell_type": "code",
      "source": [
        "#Write a program that handles both IndexError and KeyError using a try-except block\n",
        "\n",
        "\n",
        "my_list = [1, 2, 3]\n",
        "my_dict = {\"a\": 1, \"b\": 2, \"c\": 3}\n",
        "\n",
        "try:\n",
        "\n",
        "    print(my_list[5])\n",
        "\n",
        "    print(my_dict[\"d\"])\n",
        "\n",
        "except IndexError as e:\n",
        "    print(f\"IndexError occurred: {e}\")\n",
        "\n",
        "except KeyError as e:\n",
        "    print(f\"KeyError occurred: {e}\")\n",
        "\n",
        "except Exception as e:\n",
        "    print(f\"An unexpected error occurred: {e}\")\n"
      ],
      "metadata": {
        "colab": {
          "base_uri": "https://localhost:8080/"
        },
        "id": "nnCxfvLH83-d",
        "outputId": "01235c56-75d0-4bb3-957d-c3d9003d9567"
      },
      "execution_count": 39,
      "outputs": [
        {
          "output_type": "stream",
          "name": "stdout",
          "text": [
            "IndexError occurred: list index out of range\n"
          ]
        }
      ]
    },
    {
      "cell_type": "code",
      "source": [
        "# How would you open a file and read its contents using a context manager in Python\n",
        "\n",
        "with open(sample.txt, 'r') as file:\n",
        "    content = file.read()\n",
        "    print(content)"
      ],
      "metadata": {
        "colab": {
          "base_uri": "https://localhost:8080/",
          "height": 211
        },
        "id": "ZnYxcGcpDC22",
        "outputId": "c9e11a47-43b2-4ac8-bec2-d77f12f9f5c7"
      },
      "execution_count": 44,
      "outputs": [
        {
          "output_type": "error",
          "ename": "NameError",
          "evalue": "name 'sample' is not defined",
          "traceback": [
            "\u001b[0;31m---------------------------------------------------------------------------\u001b[0m",
            "\u001b[0;31mNameError\u001b[0m                                 Traceback (most recent call last)",
            "\u001b[0;32m<ipython-input-44-072f14155e82>\u001b[0m in \u001b[0;36m<cell line: 0>\u001b[0;34m()\u001b[0m\n\u001b[1;32m      1\u001b[0m \u001b[0;31m# How would you open a file and read its contents using a context manager in Python\u001b[0m\u001b[0;34m\u001b[0m\u001b[0;34m\u001b[0m\u001b[0m\n\u001b[1;32m      2\u001b[0m \u001b[0;34m\u001b[0m\u001b[0m\n\u001b[0;32m----> 3\u001b[0;31m \u001b[0;32mwith\u001b[0m \u001b[0mopen\u001b[0m\u001b[0;34m(\u001b[0m\u001b[0msample\u001b[0m\u001b[0;34m.\u001b[0m\u001b[0mtxt\u001b[0m\u001b[0;34m,\u001b[0m \u001b[0;34m'r'\u001b[0m\u001b[0;34m)\u001b[0m \u001b[0;32mas\u001b[0m \u001b[0mfile\u001b[0m\u001b[0;34m:\u001b[0m\u001b[0;34m\u001b[0m\u001b[0;34m\u001b[0m\u001b[0m\n\u001b[0m\u001b[1;32m      4\u001b[0m     \u001b[0mcontent\u001b[0m \u001b[0;34m=\u001b[0m \u001b[0mfile\u001b[0m\u001b[0;34m.\u001b[0m\u001b[0mread\u001b[0m\u001b[0;34m(\u001b[0m\u001b[0;34m)\u001b[0m\u001b[0;34m\u001b[0m\u001b[0;34m\u001b[0m\u001b[0m\n\u001b[1;32m      5\u001b[0m     \u001b[0mprint\u001b[0m\u001b[0;34m(\u001b[0m\u001b[0mcontent\u001b[0m\u001b[0;34m)\u001b[0m\u001b[0;34m\u001b[0m\u001b[0;34m\u001b[0m\u001b[0m\n",
            "\u001b[0;31mNameError\u001b[0m: name 'sample' is not defined"
          ]
        }
      ]
    },
    {
      "cell_type": "code",
      "source": [
        "# Write a Python program that reads a file and prints the number of occurrences of a specific word\n",
        "def count_word_occurrences(filename, target_word):\n",
        "    with open(filename, 'r') as file:\n",
        "        content = file.read()\n",
        "        word_count = content.lower().split().count(target_word.lower())\n",
        "\n",
        "    return word_count\n",
        "\n",
        "# Example usage\n",
        "filename = 'sample.txt'  # Replace with the actual file name\n",
        "target_word = 'ranvijay'  # Replace with the word you want to count\n",
        "occurrences = count_word_occurrences(filename, target_word)\n",
        "print(f\"The word '{target_word}' appears {occurrences} times in the file.\")\n"
      ],
      "metadata": {
        "colab": {
          "base_uri": "https://localhost:8080/"
        },
        "id": "z2bkA8IrDGWP",
        "outputId": "8a24ed3e-5ce0-4727-86e3-eb4bfd3c094d"
      },
      "execution_count": 47,
      "outputs": [
        {
          "output_type": "stream",
          "name": "stdout",
          "text": [
            "The word 'ranvijay' appears 0 times in the file.\n"
          ]
        }
      ]
    },
    {
      "cell_type": "code",
      "source": [
        "# How can you check if a file is empty before attempting to read its contents\n",
        "\n",
        "import os\n",
        "\n",
        "def is_file_empty(filename):\n",
        "    return os.path.getsize(filename) == 0\n",
        "\n",
        "def read_file_if_not_empty(filename):\n",
        "    if is_file_empty(filename):\n",
        "        print(f\"The file '{filename}' is empty.\")\n",
        "    else:\n",
        "        with open(filename, 'r') as file:\n",
        "            content = file.read()\n",
        "            print(content)\n",
        "\n",
        "# Example usage\n",
        "filename = 'sample.txt'  # Replace with the actual file name\n",
        "read_file_if_not_empty(filename)\n"
      ],
      "metadata": {
        "colab": {
          "base_uri": "https://localhost:8080/"
        },
        "id": "HyBiWwEDDkAi",
        "outputId": "9864f740-7278-4883-a47c-503a0e1aeb45"
      },
      "execution_count": 48,
      "outputs": [
        {
          "output_type": "stream",
          "name": "stdout",
          "text": [
            "Hello, this is a test file!\n",
            "This is a new line added to the file.\n"
          ]
        }
      ]
    },
    {
      "cell_type": "code",
      "source": [
        "# Write a Python program that writes to a log file when an error occurs during file handling\n",
        "import logging\n",
        "\n",
        "# Set up logging configuration\n",
        "logging.basicConfig(\n",
        "    filename='file_errors.log',  # Log file name\n",
        "    level=logging.ERROR,  # Log errors and above (ERROR, CRITICAL)\n",
        "    format='%(asctime)s - %(levelname)s - %(message)s'  # Log message format\n",
        ")\n",
        "\n",
        "def read_file(filename):\n",
        "    try:\n",
        "        with open(filename, 'r') as file:\n",
        "            content = file.read()\n",
        "            print(content)\n",
        "    except FileNotFoundError:\n",
        "        logging.error(f\"File '{filename}' not found.\")\n",
        "    except PermissionError:\n",
        "        logging.error(f\"Permission denied when trying to read '{filename}'.\")\n",
        "    except Exception as e:\n",
        "        logging.error(f\"An unexpected error occurred while reading '{filename}': {e}\")\n",
        "\n",
        "def write_to_file(filename, content):\n",
        "    try:\n",
        "        with open(filename, 'w') as file:\n",
        "            file.write(content)\n",
        "            print(f\"Content successfully written to '{filename}'.\")\n",
        "    except PermissionError:\n",
        "        logging.error(f\"Permission denied when trying to write to '{filename}'.\")\n",
        "    except Exception as e:\n",
        "        logging.error(f\"An unexpected error occurred while writing to '{filename}': {e}\")\n",
        "\n",
        "# Example usage\n",
        "read_file('non_file.txt')  # Will cause a FileNotFoundError\n",
        "write_to_file('restricted_file.txt', 'Some content')  # May cause a PermissionError\n"
      ],
      "metadata": {
        "colab": {
          "base_uri": "https://localhost:8080/"
        },
        "id": "8_aHeNesD2-Q",
        "outputId": "be5b07dc-9586-47a4-c80f-357ccd3449f8"
      },
      "execution_count": 50,
      "outputs": [
        {
          "output_type": "stream",
          "name": "stderr",
          "text": [
            "ERROR:root:File 'non_file.txt' not found.\n"
          ]
        },
        {
          "output_type": "stream",
          "name": "stdout",
          "text": [
            "Content successfully written to 'restricted_file.txt'.\n"
          ]
        }
      ]
    }
  ]
}